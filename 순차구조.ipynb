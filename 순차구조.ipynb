{
  "nbformat": 4,
  "nbformat_minor": 0,
  "metadata": {
    "colab": {
      "provenance": [],
      "authorship_tag": "ABX9TyPZswMcPtZJQjnKsb9o4QCS",
      "include_colab_link": true
    },
    "kernelspec": {
      "name": "python3",
      "display_name": "Python 3"
    },
    "language_info": {
      "name": "python"
    }
  },
  "cells": [
    {
      "cell_type": "markdown",
      "metadata": {
        "id": "view-in-github",
        "colab_type": "text"
      },
      "source": [
        "<a href=\"https://colab.research.google.com/github/25b136/class01/blob/main/%EC%88%9C%EC%B0%A8%EA%B5%AC%EC%A1%B0.ipynb\" target=\"_parent\"><img src=\"https://colab.research.google.com/assets/colab-badge.svg\" alt=\"Open In Colab\"/></a>"
      ]
    },
    {
      "cell_type": "code",
      "execution_count": 11,
      "metadata": {
        "id": "UF3uvQ-wVHYv"
      },
      "outputs": [],
      "source": [
        "# prompt: 순차구조를 사용한 프로그램을 만들어\n",
        "\n",
        "# 사용자로부터 이름과 나이를 입력받습니다.\n",
        "name = input(\"이름을 입력하세요: \")\n",
        "age = input(\"나이를 입력하세요: \")\n",
        "\n",
        "# 입력받은 정보를 출력합니다.\n",
        "print(\"안녕하세요,\", name, \"님!\")\n",
        "print(\"당신은\", age, \"살 이시군요.\")\n",
        "\n",
        "# 간단한 계산을 수행하고 출력합니다.\n",
        "age_in_10_years = int(age) + 10\n",
        "print(\"10년 후에는\", age_in_10_years, \"살이 되실 겁니다.\")"
      ]
    }
  ]
}