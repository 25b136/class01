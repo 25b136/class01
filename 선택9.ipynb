{
  "nbformat": 4,
  "nbformat_minor": 0,
  "metadata": {
    "colab": {
      "provenance": [],
      "authorship_tag": "ABX9TyOAggxsB+q2njL172on2clh",
      "include_colab_link": true
    },
    "kernelspec": {
      "name": "python3",
      "display_name": "Python 3"
    },
    "language_info": {
      "name": "python"
    }
  },
  "cells": [
    {
      "cell_type": "markdown",
      "metadata": {
        "id": "view-in-github",
        "colab_type": "text"
      },
      "source": [
        "<a href=\"https://colab.research.google.com/github/25b136/class01/blob/main/%EC%84%A0%ED%83%9D9.ipynb\" target=\"_parent\"><img src=\"https://colab.research.google.com/assets/colab-badge.svg\" alt=\"Open In Colab\"/></a>"
      ]
    },
    {
      "cell_type": "code",
      "execution_count": 11,
      "metadata": {
        "id": "UF3uvQ-wVHYv"
      },
      "outputs": [],
      "source": [
        "# prompt: 선택구조를 이용한 프로그램 만들어줘 로봇총소기가 벽에닿면 튕기게 해줘\n",
        "\n",
        "# 로봇 청소기 시뮬레이션 (선택 구조 활용)\n",
        "\n",
        "# 로봇 청소기의 초기 위치와 방향 (0: 상, 1: 우, 2: 하, 3: 좌)\n",
        "x = 5\n",
        "y = 5\n",
        "direction = 0\n",
        "\n",
        "# 공간의 크기\n",
        "max_x = 10\n",
        "max_y = 10\n",
        "\n",
        "# 로봇 청소기 이동 함수\n",
        "def move(current_x, current_y, current_direction):\n",
        "    new_x = current_x\n",
        "    new_y = current_y\n",
        "\n",
        "    if current_direction == 0:  # 상\n",
        "        new_y -= 1\n",
        "    elif current_direction == 1: # 우\n",
        "        new_x += 1\n",
        "    elif current_direction == 2: # 하\n",
        "        new_y += 1\n",
        "    elif current_direction == 3: # 좌\n",
        "        new_x -= 1\n",
        "\n",
        "    return new_x, new_y\n",
        "\n",
        "# 로봇 청소기 방향 전환 함수 (벽에 닿았을 때)\n",
        "def turn_around(current_direction):\n",
        "    return (current_direction + 2) % 4 # 반대 방향으로 전환\n",
        "\n",
        "# 시뮬레이션 실행\n",
        "print(\"로봇 청소기 시작 위치: ({}, {})\".format(x, y))\n",
        "\n",
        "# 로봇 청소기 이동 (예시로 5번 이동)\n",
        "for i in range(5):\n",
        "    print(\"\\n{}번째 이동\".format(i + 1))\n",
        "    next_x, next_y = move(x, y, direction)\n",
        "\n",
        "    # **선택 구조: 벽에 닿았는지 확인**\n",
        "    if next_x < 0 or next_x >= max_x or next_y < 0 or next_y >= max_y:\n",
        "        print(\"벽에 닿았습니다! 방향을 바꿉니다.\")\n",
        "        direction = turn_around(direction)\n",
        "        print(\"새로운 방향:\", direction)\n",
        "        # 벽에 닿았으면 이동하지 않고 방향만 바꿉니다. 다음 턴에 새로운 방향으로 이동합니다.\n",
        "    else:\n",
        "        x, y = next_x, next_y\n",
        "        print(\"이동 후 위치: ({}, {})\".format(x, y))\n",
        "        print(\"현재 방향:\", direction)\n",
        "\n",
        "print(\"\\n시뮬레이션 종료\")\n",
        "print(\"최종 위치: ({}, {})\".format(x, y))\n",
        "print(\"최종 방향:\", direction)\n",
        "```"
      ]
    }
  ]
}