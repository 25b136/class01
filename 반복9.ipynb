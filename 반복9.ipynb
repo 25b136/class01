{
  "nbformat": 4,
  "nbformat_minor": 0,
  "metadata": {
    "colab": {
      "provenance": [],
      "authorship_tag": "ABX9TyOL7gDdCPC8gNjjvKwveHUH",
      "include_colab_link": true
    },
    "kernelspec": {
      "name": "python3",
      "display_name": "Python 3"
    },
    "language_info": {
      "name": "python"
    }
  },
  "cells": [
    {
      "cell_type": "markdown",
      "metadata": {
        "id": "view-in-github",
        "colab_type": "text"
      },
      "source": [
        "<a href=\"https://colab.research.google.com/github/25b136/class01/blob/main/%EB%B0%98%EB%B3%B59.ipynb\" target=\"_parent\"><img src=\"https://colab.research.google.com/assets/colab-badge.svg\" alt=\"Open In Colab\"/></a>"
      ]
    },
    {
      "cell_type": "code",
      "execution_count": 11,
      "metadata": {
        "id": "UF3uvQ-wVHYv"
      },
      "outputs": [],
      "source": [
        "# prompt: 로봇총소기인데 반복족 구조를 이용해 정사각형을 그려\n",
        "\n",
        "from turtle import *\n",
        "\n",
        "# 로봇청소기 그리기 (간단한 예시)\n",
        "def draw_robot_vacuum():\n",
        "  speed(0)\n",
        "  penup()\n",
        "  goto(0, -50)\n",
        "  pendown()\n",
        "  fillcolor(\"gray\")\n",
        "  begin_fill()\n",
        "  circle(50)\n",
        "  end_fill()\n",
        "  penup()\n",
        "  goto(0, -30)\n",
        "  pendown()\n",
        "  dot(10, \"black\")\n",
        "  penup()\n",
        "  goto(0, 0)\n",
        "  pendown()\n",
        "  speed(1)\n",
        "\n",
        "# 정사각형 그리기 함수\n",
        "def draw_square(size):\n",
        "  for _ in range(4): # 반복 구조 사용\n",
        "    forward(size)\n",
        "    right(90)\n",
        "\n",
        "# 로봇청소기 그리기\n",
        "draw_robot_vacuum()\n",
        "\n",
        "# 로봇청소기가 정사각형을 그리도록 이동\n",
        "penup()\n",
        "goto(-100, 100) # 정사각형을 그릴 시작 위치로 이동\n",
        "pendown()\n",
        "\n",
        "# 정사각형 그리기\n",
        "square_size = 200\n",
        "draw_square(square_size)\n",
        "\n",
        "# 그림 완료 후 숨기기\n",
        "hideturtle()\n",
        "done()\n"
      ]
    }
  ]
}