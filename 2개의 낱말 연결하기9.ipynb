{
  "nbformat": 4,
  "nbformat_minor": 0,
  "metadata": {
    "colab": {
      "provenance": [],
      "authorship_tag": "ABX9TyODCCnpN3GRlG7540ju8PGw",
      "include_colab_link": true
    },
    "kernelspec": {
      "name": "python3",
      "display_name": "Python 3"
    },
    "language_info": {
      "name": "python"
    }
  },
  "cells": [
    {
      "cell_type": "markdown",
      "metadata": {
        "id": "view-in-github",
        "colab_type": "text"
      },
      "source": [
        "<a href=\"https://colab.research.google.com/github/25b136/class01/blob/main/2%EA%B0%9C%EC%9D%98%20%EB%82%B1%EB%A7%90%20%EC%97%B0%EA%B2%B0%ED%95%98%EA%B8%B09.ipynb\" target=\"_parent\"><img src=\"https://colab.research.google.com/assets/colab-badge.svg\" alt=\"Open In Colab\"/></a>"
      ]
    },
    {
      "cell_type": "code",
      "execution_count": 11,
      "metadata": {
        "id": "UF3uvQ-wVHYv"
      },
      "outputs": [],
      "source": [
        "# prompt: 영현이는 파란색을 좋아하는구나 같은 프로그램을 만들어\n",
        "\n",
        "likes_blue = True #@param {type:\"boolean\"}\n",
        "\n",
        "if likes_blue:\n",
        "  print(\"영현이는 파란색을 좋아하는구나\")\n",
        "else:\n",
        "  print(\"영현이는 파란색을 좋아하지 않는구나\")"
      ]
    }
  ]
}