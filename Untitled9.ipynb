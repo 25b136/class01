{
  "nbformat": 4,
  "nbformat_minor": 0,
  "metadata": {
    "colab": {
      "provenance": [],
      "authorship_tag": "ABX9TyMiqbP2myfWjiaHI7eAnqnr",
      "include_colab_link": true
    },
    "kernelspec": {
      "name": "python3",
      "display_name": "Python 3"
    },
    "language_info": {
      "name": "python"
    }
  },
  "cells": [
    {
      "cell_type": "markdown",
      "metadata": {
        "id": "view-in-github",
        "colab_type": "text"
      },
      "source": [
        "<a href=\"https://colab.research.google.com/github/25b136/class01/blob/main/Untitled9.ipynb\" target=\"_parent\"><img src=\"https://colab.research.google.com/assets/colab-badge.svg\" alt=\"Open In Colab\"/></a>"
      ]
    },
    {
      "cell_type": "code",
      "execution_count": 11,
      "metadata": {
        "id": "UF3uvQ-wVHYv"
      },
      "outputs": [],
      "source": [
        "# prompt: 사칙계산이을 할수있는 프로그램을 만들어\n",
        "\n",
        "# Korean: Create a program that can perform the four basic arithmetic operations.\n",
        "\n",
        "def add(x, y):\n",
        "  \"\"\"Adds two numbers.\"\"\"\n",
        "  return x + y\n",
        "\n",
        "def subtract(x, y):\n",
        "  \"\"\"Subtracts the second number from the first.\"\"\"\n",
        "  return x - y\n",
        "\n",
        "def multiply(x, y):\n",
        "  \"\"\"Multiplies two numbers.\"\"\"\n",
        "  return x * y\n",
        "\n",
        "def divide(x, y):\n",
        "  \"\"\"Divides the first number by the second. Returns an error if the divisor is zero.\"\"\"\n",
        "  if y == 0:\n",
        "    return \"Error: Division by zero!\"\n",
        "  return x / y\n",
        "\n",
        "# Example usage:\n",
        "# num1 = 10\n",
        "# num2 = 5\n",
        "\n",
        "# print(f\"{num1} + {num2} = {add(num1, num2)}\")\n",
        "# print(f\"{num1} - {num2} = {subtract(num1, num2)}\")\n",
        "# print(f\"{num1} * {num2} = {multiply(num1, num2)}\")\n",
        "# print(f\"{num1} / {num2} = {divide(num1, num2)}\")"
      ]
    }
  ]
}