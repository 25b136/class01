{
  "nbformat": 4,
  "nbformat_minor": 0,
  "metadata": {
    "colab": {
      "provenance": [],
      "authorship_tag": "ABX9TyNkljWFYWESJ0yKfAobXLDx",
      "include_colab_link": true
    },
    "kernelspec": {
      "name": "python3",
      "display_name": "Python 3"
    },
    "language_info": {
      "name": "python"
    }
  },
  "cells": [
    {
      "cell_type": "markdown",
      "metadata": {
        "id": "view-in-github",
        "colab_type": "text"
      },
      "source": [
        "<a href=\"https://colab.research.google.com/github/25b136/class01/blob/main/Untitled8.ipynb\" target=\"_parent\"><img src=\"https://colab.research.google.com/assets/colab-badge.svg\" alt=\"Open In Colab\"/></a>"
      ]
    },
    {
      "cell_type": "code",
      "execution_count": null,
      "metadata": {
        "id": "kyDpq5KaRu6H"
      },
      "outputs": [],
      "source": [
        "# prompt: 선택 구조를 이용한 프로그램 만들어줘\n",
        "\n",
        "print(\"점수를 입력하세요:\")\n",
        "score = int(input())\n",
        "\n",
        "if score >= 90:\n",
        "  print(\"학점: A\")\n",
        "elif score >= 80:\n",
        "  print(\"학점: B\")\n",
        "elif score >= 70:\n",
        "  print(\"학점: C\")\n",
        "elif score >= 60:\n",
        "  print(\"학점: D\")\n",
        "else:\n",
        "  print(\"학점: F\")"
      ]
    }
  ]
}