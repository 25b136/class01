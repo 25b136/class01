{
  "nbformat": 4,
  "nbformat_minor": 0,
  "metadata": {
    "colab": {
      "provenance": [],
      "authorship_tag": "ABX9TyNLvFJOAxxBG2R+GOKcCTPM",
      "include_colab_link": true
    },
    "kernelspec": {
      "name": "python3",
      "display_name": "Python 3"
    },
    "language_info": {
      "name": "python"
    }
  },
  "cells": [
    {
      "cell_type": "markdown",
      "metadata": {
        "id": "view-in-github",
        "colab_type": "text"
      },
      "source": [
        "<a href=\"https://colab.research.google.com/github/25b136/class01/blob/main/Untitled8.ipynb\" target=\"_parent\"><img src=\"https://colab.research.google.com/assets/colab-badge.svg\" alt=\"Open In Colab\"/></a>"
      ]
    },
    {
      "cell_type": "code",
      "execution_count": null,
      "metadata": {
        "id": "kyDpq5KaRu6H"
      },
      "outputs": [],
      "source": [
        "# prompt: 영현이는 파란색을 좋아하는구나. 와 같은 프로그램 만들어\n",
        "\n",
        "likes_blue = \"파란색\" #@param [\"파란색\", \"빨간색\", \"초록색\"]\n",
        "\n",
        "print(f\"영현이는 {likes_blue}을 좋아하는구나.\")"
      ]
    }
  ]
}