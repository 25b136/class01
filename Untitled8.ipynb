{
  "nbformat": 4,
  "nbformat_minor": 0,
  "metadata": {
    "colab": {
      "provenance": [],
      "authorship_tag": "ABX9TyMLJAAoElXeZHFnSy9Fb0CO",
      "include_colab_link": true
    },
    "kernelspec": {
      "name": "python3",
      "display_name": "Python 3"
    },
    "language_info": {
      "name": "python"
    }
  },
  "cells": [
    {
      "cell_type": "markdown",
      "metadata": {
        "id": "view-in-github",
        "colab_type": "text"
      },
      "source": [
        "<a href=\"https://colab.research.google.com/github/25b136/class01/blob/main/Untitled8.ipynb\" target=\"_parent\"><img src=\"https://colab.research.google.com/assets/colab-badge.svg\" alt=\"Open In Colab\"/></a>"
      ]
    },
    {
      "cell_type": "code",
      "execution_count": null,
      "metadata": {
        "id": "kyDpq5KaRu6H"
      },
      "outputs": [],
      "source": [
        "# prompt: 순차구조 를 사용한 프로그램 만들어\n",
        "\n",
        "# This program demonstrates a sequential structure.\n",
        "# It takes user input, performs a simple calculation, and prints the result.\n",
        "\n",
        "# Get input from the user\n",
        "num1_str = input(\"Enter the first number: \")\n",
        "num2_str = input(\"Enter the second number: \")\n",
        "\n",
        "# Convert input to numbers (integers in this case)\n",
        "num1 = int(num1_str)\n",
        "num2 = int(num2_str)\n",
        "\n",
        "# Perform a simple calculation\n",
        "sum_result = num1 + num2\n",
        "\n",
        "# Print the result\n",
        "print(\"The sum of\", num1, \"and\", num2, \"is:\", sum_result)\n"
      ]
    }
  ]
}