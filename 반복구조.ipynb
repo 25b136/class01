{
  "nbformat": 4,
  "nbformat_minor": 0,
  "metadata": {
    "colab": {
      "provenance": [],
      "authorship_tag": "ABX9TyOTelVK5T+l+cV0Egag3hjW",
      "include_colab_link": true
    },
    "kernelspec": {
      "name": "python3",
      "display_name": "Python 3"
    },
    "language_info": {
      "name": "python"
    }
  },
  "cells": [
    {
      "cell_type": "markdown",
      "metadata": {
        "id": "view-in-github",
        "colab_type": "text"
      },
      "source": [
        "<a href=\"https://colab.research.google.com/github/25b136/class01/blob/main/%EB%B0%98%EB%B3%B5%EA%B5%AC%EC%A1%B0.ipynb\" target=\"_parent\"><img src=\"https://colab.research.google.com/assets/colab-badge.svg\" alt=\"Open In Colab\"/></a>"
      ]
    },
    {
      "cell_type": "code",
      "execution_count": null,
      "metadata": {
        "id": "kyDpq5KaRu6H"
      },
      "outputs": [],
      "source": [
        "# prompt: 반복구조를 이용한 프로그램을 만들어줘\n",
        "\n",
        "# while 루프를 사용한 예시\n",
        "count = 0\n",
        "while count < 5:\n",
        "    print(f\"While 루프: {count}\")\n",
        "    count += 1\n",
        "\n",
        "print(\"-\" * 20) # 구분선\n",
        "\n",
        "# for 루프를 사용한 예시 (리스트 순회)\n",
        "fruits = [\"apple\", \"banana\", \"cherry\"]\n",
        "for fruit in fruits:\n",
        "    print(f\"For 루프 (리스트): {fruit}\")\n",
        "\n",
        "print(\"-\" * 20) # 구분선\n",
        "\n",
        "# for 루프를 사용한 예시 (범위 순회)\n",
        "for i in range(3):\n",
        "    print(f\"For 루프 (범위): {i}\")\n",
        "\n",
        "print(\"-\" * 20) # 구분선\n",
        "\n",
        "# 중첩 루프 예시\n",
        "for i in range(2):\n",
        "    for j in range(3):\n",
        "        print(f\"중첩 루프: ({i}, {j})\")\n",
        "\n",
        "print(\"-\" * 20) # 구분선\n",
        "\n",
        "# break를 사용한 예시 (루프 중단)\n",
        "count_break = 0\n",
        "while count_break < 10:\n",
        "    print(f\"Break 예시: {count_break}\")\n",
        "    if count_break == 3:\n",
        "        break\n",
        "    count_break += 1\n",
        "\n",
        "print(\"-\" * 20) # 구분선\n",
        "\n",
        "# continue를 사용한 예시 (현재 반복 건너뛰기)\n",
        "for i in range(5):\n",
        "    if i == 2:\n",
        "        continue\n",
        "    print(f\"Continue 예시: {i}\")\n"
      ]
    }
  ]
}