{
  "nbformat": 4,
  "nbformat_minor": 0,
  "metadata": {
    "colab": {
      "provenance": [],
      "authorship_tag": "ABX9TyNqkJQUxAsmzRESCcjHzg1q",
      "include_colab_link": true
    },
    "kernelspec": {
      "name": "python3",
      "display_name": "Python 3"
    },
    "language_info": {
      "name": "python"
    }
  },
  "cells": [
    {
      "cell_type": "markdown",
      "metadata": {
        "id": "view-in-github",
        "colab_type": "text"
      },
      "source": [
        "<a href=\"https://colab.research.google.com/github/25b136/class01/blob/main/%EC%98%81%EC%96%B4%20%EA%B2%8C%EC%9E%847.ipynb\" target=\"_parent\"><img src=\"https://colab.research.google.com/assets/colab-badge.svg\" alt=\"Open In Colab\"/></a>"
      ]
    },
    {
      "cell_type": "code",
      "execution_count": 3,
      "metadata": {
        "colab": {
          "base_uri": "https://localhost:8080/"
        },
        "id": "RQNeY1eKPCiL",
        "outputId": "c080a8b1-9ca6-40f8-8ce5-c0d24119d103"
      },
      "outputs": [
        {
          "output_type": "stream",
          "name": "stdout",
          "text": [
            "1학년 영어 게임에 오신 것을 환영합니다! 🎉\n",
            "단어의 뜻을 보고 스펠링을 맞춰보세요. 맞추면 5점씩 얻을 수 있습니다!\n",
            "몇 문제 풀어볼까요? (숫자로 입력): 3\n",
            "\n",
            "문제 1: 달걀의 영어 단어는 무엇일까요?\n",
            "정답을 입력하세요: g\n",
            "아쉽지만 틀렸습니다. 정답은 egg입니다. 😔\n",
            "\n",
            "문제 2: 포도의 영어 단어는 무엇일까요?\n",
            "정답을 입력하세요: grape\n",
            "정답입니다! 👍\n",
            "\n",
            "문제 3: 주스의 영어 단어는 무엇일까요?\n",
            "정답을 입력하세요: juices\n",
            "아쉽지만 틀렸습니다. 정답은 juice입니다. 😔\n",
            "\n",
            "총 3문제 중 1문제를 맞혔습니다!\n",
            "점수: 5점\n",
            "다음에는 더 잘 할 수 있을 거예요! 💪\n",
            "게임 종료!\n"
          ]
        }
      ],
      "source": [
        "# prompt:  1학년 수준의 영어 게임 만들어줘 처음에는 몇문제 풀지 물어봐설명은 한국어로 해 주고 뜻이랑 스펠링 을 맞추게 해주고 맞추면 5점씩 올려줘 그리고 칭찬 해줘설명 도 추가해줘\n",
        "\n",
        "import random\n",
        "\n",
        "def english_game():\n",
        "    print(\"1학년 영어 게임에 오신 것을 환영합니다! 🎉\")\n",
        "    print(\"단어의 뜻을 보고 스펠링을 맞춰보세요. 맞추면 5점씩 얻을 수 있습니다!\")\n",
        "\n",
        "    try:\n",
        "        num_questions = int(input(\"몇 문제 풀어볼까요? (숫자로 입력): \"))\n",
        "    except ValueError:\n",
        "        print(\"숫자를 입력해주세요.\")\n",
        "        return\n",
        "\n",
        "    if num_questions <= 0:\n",
        "        print(\"1 이상의 숫자를 입력해주세요.\")\n",
        "        return\n",
        "\n",
        "    words = {\n",
        "        \"apple\": \"사과\",\n",
        "        \"banana\": \"바나나\",\n",
        "        \"cat\": \"고양이\",\n",
        "        \"dog\": \"강아지\",\n",
        "        \"egg\": \"달걀\",\n",
        "        \"fish\": \"물고기\",\n",
        "        \"grape\": \"포도\",\n",
        "        \"house\": \"집\",\n",
        "        \"ice cream\": \"아이스크림\",\n",
        "        \"juice\": \"주스\"\n",
        "    }\n",
        "\n",
        "    score = 0\n",
        "    correct_answers = 0\n",
        "    for i in range(num_questions):\n",
        "        word, meaning = random.choice(list(words.items()))\n",
        "        print(f\"\\n문제 {i+1}: {meaning}의 영어 단어는 무엇일까요?\")\n",
        "        user_answer = input(\"정답을 입력하세요: \").lower()\n",
        "\n",
        "        if user_answer == word:\n",
        "            print(\"정답입니다! 👍\")\n",
        "            score += 5\n",
        "            correct_answers += 1\n",
        "        else:\n",
        "            print(f\"아쉽지만 틀렸습니다. 정답은 {word}입니다. 😔\")\n",
        "\n",
        "    print(f\"\\n총 {num_questions}문제 중 {correct_answers}문제를 맞혔습니다!\")\n",
        "    print(f\"점수: {score}점\")\n",
        "\n",
        "    if score == num_questions * 5:\n",
        "        print(\"와! 모든 문제를 다 맞혔네요! 정말 훌륭해요! ✨\")\n",
        "    elif score >= num_questions * 2.5:\n",
        "        print(\"잘했어요! 👍\")\n",
        "    else:\n",
        "        print(\"다음에는 더 잘 할 수 있을 거예요! 💪\")\n",
        "    print(\"게임 종료!\")\n",
        "\n",
        "\n",
        "if __name__ == \"__main__\":\n",
        "    english_game()\n"
      ]
    }
  ]
}