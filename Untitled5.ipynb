{
  "nbformat": 4,
  "nbformat_minor": 0,
  "metadata": {
    "colab": {
      "provenance": [],
      "authorship_tag": "ABX9TyOWG4SXgAUBGfqfqfwfswXQ",
      "include_colab_link": true
    },
    "kernelspec": {
      "name": "python3",
      "display_name": "Python 3"
    },
    "language_info": {
      "name": "python"
    }
  },
  "cells": [
    {
      "cell_type": "markdown",
      "metadata": {
        "id": "view-in-github",
        "colab_type": "text"
      },
      "source": [
        "<a href=\"https://colab.research.google.com/github/25b136/class01/blob/main/Untitled5.ipynb\" target=\"_parent\"><img src=\"https://colab.research.google.com/assets/colab-badge.svg\" alt=\"Open In Colab\"/></a>"
      ]
    },
    {
      "cell_type": "code",
      "execution_count": 1,
      "metadata": {
        "colab": {
          "base_uri": "https://localhost:8080/"
        },
        "id": "GL2_a69QY_li",
        "outputId": "57ec601b-1539-44bc-db3d-c69bf4b51718"
      },
      "outputs": [
        {
          "output_type": "stream",
          "name": "stdout",
          "text": [
            "몇 문제 풀어볼까요? 5\n",
            "9 + 4 = ? 13\n",
            "잘했어요! 정답입니다!\n",
            "현재 점수: 5점\n",
            "5 + 6 = ? 11\n",
            "잘했어요! 정답입니다!\n",
            "현재 점수: 10점\n",
            "7 + 1 = ? 8\n",
            "잘했어요! 정답입니다!\n",
            "현재 점수: 15점\n",
            "7 + 6 = ? 13\n",
            "잘했어요! 정답입니다!\n",
            "현재 점수: 20점\n",
            "6 + 1 = ? 7\n",
            "잘했어요! 정답입니다!\n",
            "현재 점수: 25점\n",
            "\n",
            "총 5 문제 중 5 문제를 맞혔습니다!\n",
            "최종 점수: 25점\n"
          ]
        }
      ],
      "source": [
        "# prompt: 1학년 수준의 덧셈게임을 만들어줘 처음에는 몇번 할지를 물어보고 그 수만큼 실행해줘 맞출때마다 칭찬하고 점수를 5씩 올려줘\n",
        "\n",
        "import random\n",
        "\n",
        "def addition_game():\n",
        "  \"\"\"1학년 수준의 덧셈 게임을 실행합니다.\"\"\"\n",
        "\n",
        "  try:\n",
        "    num_problems = int(input(\"몇 문제 풀어볼까요? \"))\n",
        "    if num_problems <= 0:\n",
        "      print(\"1 이상의 문제 개수를 입력해주세요.\")\n",
        "      return\n",
        "  except ValueError:\n",
        "    print(\"숫자를 입력해주세요.\")\n",
        "    return\n",
        "\n",
        "  score = 0\n",
        "  for i in range(num_problems):\n",
        "    num1 = random.randint(1, 10)  # 1부터 10 사이의 랜덤한 수 생성\n",
        "    num2 = random.randint(1, 10)\n",
        "    correct_answer = num1 + num2\n",
        "\n",
        "    while True:\n",
        "      try:\n",
        "        user_answer = int(input(f\"{num1} + {num2} = ? \"))\n",
        "        break\n",
        "      except ValueError:\n",
        "        print(\"숫자를 입력해주세요.\")\n",
        "\n",
        "    if user_answer == correct_answer:\n",
        "      print(\"잘했어요! 정답입니다!\")\n",
        "      score += 5\n",
        "    else:\n",
        "      print(f\"아쉬워요. 정답은 {correct_answer}입니다.\")\n",
        "\n",
        "    print(f\"현재 점수: {score}점\")\n",
        "\n",
        "  print(f\"\\n총 {num_problems} 문제 중 {score // 5} 문제를 맞혔습니다!\")\n",
        "  print(f\"최종 점수: {score}점\")\n",
        "\n",
        "if __name__ == \"__main__\":\n",
        "  addition_game()\n"
      ]
    }
  ]
}